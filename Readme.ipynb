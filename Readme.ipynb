{
 "cells": [
  {
   "cell_type": "markdown",
   "metadata": {},
   "source": [
    "# Analyze A/B Test Results"
   ]
  },
  {
   "cell_type": "markdown",
   "metadata": {},
   "source": [
    "This project is a part of Udacity's Data Analyst Nanodegree Program. \n",
    "\n",
    "In this project, the result of an A/B test that was run by an e-commerce website is analyzed. A new web page was developed by the company in order to try and increase the number of users who decide to pay for the product. \n",
    "\n",
    "The goal of this project is to analyze the data to determine if the new web page should be implemented or not. "
   ]
  },
  {
   "cell_type": "markdown",
   "metadata": {},
   "source": [
    "## Getting Started"
   ]
  },
  {
   "cell_type": "markdown",
   "metadata": {},
   "source": [
    "### Prerequisites"
   ]
  },
  {
   "cell_type": "markdown",
   "metadata": {},
   "source": [
    "In order to run this code, you will need Python 3+ and csv files that contains data to analyze. "
   ]
  },
  {
   "cell_type": "markdown",
   "metadata": {},
   "source": [
    "You will need the following Python libraries. \n",
    "\n",
    "- Pandas\n",
    "- Numpy\n",
    "- Matplotlib\n",
    "- Random"
   ]
  },
  {
   "cell_type": "markdown",
   "metadata": {},
   "source": [
    "### Installation"
   ]
  },
  {
   "cell_type": "markdown",
   "metadata": {},
   "source": [
    "To run this notebook:\n",
    "\n",
    "1. Download the .ipynb Jupyter notebook file. \n",
    "2. Download the data files ab_data.csv and countries.csv.\n",
    "3. Make sure all three files are in the same folder. \n",
    "4. Open an instance of Jupyter notebook from the folder where you saved all three files. \n"
   ]
  },
  {
   "cell_type": "markdown",
   "metadata": {},
   "source": [
    "### Goal of this notebook"
   ]
  },
  {
   "cell_type": "markdown",
   "metadata": {},
   "source": [
    "Show a simple example of a A/B test and the use of probability in Python to analyze the test. It contains the following:\n",
    "\n",
    "**Calculation of probabilities for conversion rate (users converting from old webpage to new)**\n",
    "\n",
    "- Basic probability calculations and data handling\n",
    "- Comparing probability of conversion between the two pages\n",
    "\n",
    "**Hypothesis testing**\n",
    "\n",
    "- Defining null and alternative hypothesis\n",
    "- Simulating difference in probabilities of both pages using random binomial distribution \n",
    "- Use of statsmodels for logistic regression\n",
    "- Obtain p-value to test signficance\n",
    "\n",
    "**Adding country/location to the factors under analysis and test significance**\n",
    "\n",
    "- Testing significance of factors (interaction and individual) after adding country as factor\n"
   ]
  },
  {
   "cell_type": "markdown",
   "metadata": {},
   "source": [
    "### Analysis and Conclusion"
   ]
  },
  {
   "cell_type": "markdown",
   "metadata": {},
   "source": [
    "- The probability of receiving the new page is 0.5 \n",
    "\n",
    "\n",
    "- Initial analysis based on just probabilities did not give us conclusive evidence. The probability of conversion in control group (the group that receives old webpage) is higher than treatment group (group that receives new webpage). The probability of conversion regardless of page that user receives is 0.119. \n",
    "\n",
    "\n",
    "- We defined the null and alternative hypothesis based on difference of probabilities of conversion of old and new page. \n",
    "\n",
    "\n",
    "- We simulated 10000 with a new and old page convert rate under null hypothesis. \n",
    "\n",
    "\n",
    "- We then calculated the difference in conversion rates from the simulated values.\n",
    "\n",
    "\n",
    "- We then had 10000 simulated difference in conversion rates and we stored these differences (values) in a variable.\n",
    "\n",
    "\n",
    "- We plotted the distribution on these differences on a histogram and calculated p-value. The p-value calculated was 0.905. We failed to reject null hypothesis (which is: there is no difference in probabilities between conversion rates). \n",
    "\n",
    "\n",
    "- Failing to reject null hypothesis indicates that there is no difference in conversion rates between old and new page. \n",
    "\n",
    "\n",
    "- We then used z-score from statsmodels to explore similar results. Assuming 95% significance level and p-value, we failed to reject null hypothesis. \n",
    "\n",
    "\n",
    "- We also used logisitic regression to fit a model and see if there is significant difference in conversion rates. The p-value was found to be not statistically significant. \n",
    "\n",
    "\n",
    "- We also explored the possibility of influence of location on test results. We explore this by adding this factor to our model. We found that this factor affected the response (p value was less than significance level). \n"
   ]
  }
 ],
 "metadata": {
  "kernelspec": {
   "display_name": "Python [default]",
   "language": "python",
   "name": "python3"
  },
  "language_info": {
   "codemirror_mode": {
    "name": "ipython",
    "version": 3
   },
   "file_extension": ".py",
   "mimetype": "text/x-python",
   "name": "python",
   "nbconvert_exporter": "python",
   "pygments_lexer": "ipython3",
   "version": "3.6.5"
  }
 },
 "nbformat": 4,
 "nbformat_minor": 2
}
